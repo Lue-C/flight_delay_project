{
 "cells": [
  {
   "cell_type": "code",
   "execution_count": 375,
   "metadata": {},
   "outputs": [],
   "source": [
    "import pandas as pd\n",
    "import numpy as np\n",
    "import seaborn as sns\n",
    "import warnings\n",
    "import airportsdata\n",
    "from datetime import *\n",
    "import matplotlib.pyplot as plt\n",
    "from sklearn.linear_model import LinearRegression\n",
    "from sklearn.preprocessing import MinMaxScaler, StandardScaler\n",
    "from sklearn.model_selection import train_test_split\n",
    "from sklearn.model_selection import RandomizedSearchCV, GridSearchCV\n",
    "from sklearn.metrics import accuracy_score, recall_score, f1_score, precision_score, confusion_matrix, make_scorer, fbeta_score\n",
    "from sklearn.ensemble import RandomForestClassifier, AdaBoostClassifier\n",
    "from sklearn.tree import DecisionTreeClassifier\n",
    "warnings.filterwarnings('ignore')\n",
    "from imblearn.over_sampling import SMOTE\n",
    "from sklearn.neighbors import KNeighborsClassifier\n",
    "from imblearn.under_sampling import NearMiss\n",
    "\n",
    "RSEED = 42"
   ]
  },
  {
   "cell_type": "code",
   "execution_count": 376,
   "metadata": {},
   "outputs": [],
   "source": [
    "def rmse(y_pred, y_test):\n",
    "    return np.sqrt(np.sum((y_pred[i]-y_test[i])**2 for i in range(len(y_test)))/len(y_test))"
   ]
  },
  {
   "cell_type": "code",
   "execution_count": 377,
   "metadata": {},
   "outputs": [],
   "source": [
    "df_train = pd.read_csv('data/train.csv')\n",
    "df_test = pd.read_csv('data/test.csv')"
   ]
  },
  {
   "cell_type": "code",
   "execution_count": 378,
   "metadata": {},
   "outputs": [],
   "source": [
    "load_data = pd.DataFrame(airportsdata.load('IATA'))\n",
    "airport_data = load_data.T.reset_index()\n",
    "df_new = df_train.merge(airport_data, how= 'left', left_on ='DEPSTN', right_on ='index').merge(airport_data, how= 'left', left_on='ARRSTN', right_on='index')\n",
    "df_new.columns = df_new.columns.str.replace('_x', '_dep').str.replace('_y', '_arr')"
   ]
  },
  {
   "cell_type": "code",
   "execution_count": 379,
   "metadata": {},
   "outputs": [],
   "source": [
    "df_new[\"STD\"]=df_new[\"STD\"].apply(lambda x: datetime.strptime(x,'%Y-%m-%d %H:%M:%S'))\n",
    "df_new[\"STA\"]=df_new[\"STA\"].apply(lambda x: datetime.strptime(x,'%Y-%m-%d %H.%M.%S'))\n",
    "df_new['year'] = df_new['STD'].apply(lambda x: x.year).apply(pd.to_numeric)\n",
    "df_new['dep_date'] = df_new['STD'].apply(lambda x: datetime.strftime(x,'%m-%d'))\n",
    "df_new['dep_time'] = df_new['STD'].apply(lambda x: datetime.strftime(x,'%H:%M:%S'))\n",
    "df_new['arr_date'] = df_new['STA'].apply(lambda x: datetime.strftime(x,'%m-%d'))\n",
    "df_new['arr_time'] = df_new['STA'].apply(lambda x: datetime.strftime(x,'%H:%M:%S'))\n",
    "df_new['sch_duration'] = ((df_new['STA'] -df_new['STD'])/timedelta(minutes=1))\n",
    "\n",
    "df_new = df_new.query(' (not (arr_date < dep_date and dep_date != \"12-31\"))')\n",
    "df_new['dep_month'] = df_new['STD'].apply(lambda x: x.month).apply(pd.to_numeric)\n",
    "df_new['arr_month'] = df_new['STA'].apply(lambda x: x.month).apply(pd.to_numeric)\n",
    "df_new['dep_day'] = df_new['STD'].apply(lambda x: datetime.strftime(x,'%d')).apply(pd.to_numeric)\n",
    "df_new['arr_day'] = df_new['STA'].apply(lambda x: datetime.strftime(x,'%d')).apply(pd.to_numeric)\n",
    "df_new['dep_hour'] = df_new['STD'].apply(lambda x: x.hour).apply(pd.to_numeric)\n",
    "df_new['arr_hour'] = df_new['STA'].apply(lambda x: x.hour).apply(pd.to_numeric)\n",
    "\n",
    "df_new = df_new.query('DEPSTN != \"SXF\" and ARRSTN != \"SXF\"')\n",
    "df_new.AC = df_new.AC.apply(lambda x: x.split(sep=' ')[0])\n",
    "\n",
    "df_new['dur_cat'] = pd.cut(df_new.sch_duration, bins=[0, 120, 240, 360, 480, 600, 720, 840, 960, 1080, 1200, 1320, 1000000]).apply(lambda x: x.right).astype(int)\n",
    "\n",
    "distances = pd.read_csv('data/distance.csv')\n",
    "df_new = df_new.merge(distances, on='ID')"
   ]
  },
  {
   "cell_type": "code",
   "execution_count": 380,
   "metadata": {},
   "outputs": [],
   "source": [
    "df_new['c_week'] = df_new['STA'].dt.week.astype(int)"
   ]
  },
  {
   "cell_type": "code",
   "execution_count": 381,
   "metadata": {},
   "outputs": [
    {
     "data": {
      "text/html": [
       "<div>\n",
       "<style scoped>\n",
       "    .dataframe tbody tr th:only-of-type {\n",
       "        vertical-align: middle;\n",
       "    }\n",
       "\n",
       "    .dataframe tbody tr th {\n",
       "        vertical-align: top;\n",
       "    }\n",
       "\n",
       "    .dataframe thead th {\n",
       "        text-align: right;\n",
       "    }\n",
       "</style>\n",
       "<table border=\"1\" class=\"dataframe\">\n",
       "  <thead>\n",
       "    <tr style=\"text-align: right;\">\n",
       "      <th></th>\n",
       "      <th>ID</th>\n",
       "      <th>DATOP</th>\n",
       "      <th>FLTID</th>\n",
       "      <th>DEPSTN</th>\n",
       "      <th>ARRSTN</th>\n",
       "      <th>STD</th>\n",
       "      <th>STA</th>\n",
       "      <th>STATUS</th>\n",
       "      <th>AC</th>\n",
       "      <th>target</th>\n",
       "      <th>...</th>\n",
       "      <th>dep_month</th>\n",
       "      <th>arr_month</th>\n",
       "      <th>dep_day</th>\n",
       "      <th>arr_day</th>\n",
       "      <th>dep_hour</th>\n",
       "      <th>arr_hour</th>\n",
       "      <th>dur_cat</th>\n",
       "      <th>Unnamed: 0</th>\n",
       "      <th>trav_dist</th>\n",
       "      <th>c_week</th>\n",
       "    </tr>\n",
       "  </thead>\n",
       "  <tbody>\n",
       "    <tr>\n",
       "      <th>0</th>\n",
       "      <td>train_id_0</td>\n",
       "      <td>2016-01-03</td>\n",
       "      <td>TU 0712</td>\n",
       "      <td>CMN</td>\n",
       "      <td>TUN</td>\n",
       "      <td>2016-01-03 10:30:00</td>\n",
       "      <td>2016-01-03 12:55:00</td>\n",
       "      <td>ATA</td>\n",
       "      <td>TU</td>\n",
       "      <td>260.0</td>\n",
       "      <td>...</td>\n",
       "      <td>1</td>\n",
       "      <td>1</td>\n",
       "      <td>3</td>\n",
       "      <td>3</td>\n",
       "      <td>10</td>\n",
       "      <td>12</td>\n",
       "      <td>240</td>\n",
       "      <td>0</td>\n",
       "      <td>1666.949101</td>\n",
       "      <td>53</td>\n",
       "    </tr>\n",
       "    <tr>\n",
       "      <th>1</th>\n",
       "      <td>train_id_1</td>\n",
       "      <td>2016-01-13</td>\n",
       "      <td>TU 0757</td>\n",
       "      <td>MXP</td>\n",
       "      <td>TUN</td>\n",
       "      <td>2016-01-13 15:05:00</td>\n",
       "      <td>2016-01-13 16:55:00</td>\n",
       "      <td>ATA</td>\n",
       "      <td>TU</td>\n",
       "      <td>20.0</td>\n",
       "      <td>...</td>\n",
       "      <td>1</td>\n",
       "      <td>1</td>\n",
       "      <td>13</td>\n",
       "      <td>13</td>\n",
       "      <td>15</td>\n",
       "      <td>16</td>\n",
       "      <td>120</td>\n",
       "      <td>1</td>\n",
       "      <td>983.064595</td>\n",
       "      <td>2</td>\n",
       "    </tr>\n",
       "    <tr>\n",
       "      <th>2</th>\n",
       "      <td>train_id_2</td>\n",
       "      <td>2016-01-16</td>\n",
       "      <td>TU 0214</td>\n",
       "      <td>TUN</td>\n",
       "      <td>IST</td>\n",
       "      <td>2016-01-16 04:10:00</td>\n",
       "      <td>2016-01-16 06:45:00</td>\n",
       "      <td>ATA</td>\n",
       "      <td>TU</td>\n",
       "      <td>0.0</td>\n",
       "      <td>...</td>\n",
       "      <td>1</td>\n",
       "      <td>1</td>\n",
       "      <td>16</td>\n",
       "      <td>16</td>\n",
       "      <td>4</td>\n",
       "      <td>6</td>\n",
       "      <td>240</td>\n",
       "      <td>2</td>\n",
       "      <td>1673.053088</td>\n",
       "      <td>2</td>\n",
       "    </tr>\n",
       "    <tr>\n",
       "      <th>3</th>\n",
       "      <td>train_id_3</td>\n",
       "      <td>2016-01-17</td>\n",
       "      <td>TU 0480</td>\n",
       "      <td>DJE</td>\n",
       "      <td>NTE</td>\n",
       "      <td>2016-01-17 14:10:00</td>\n",
       "      <td>2016-01-17 17:00:00</td>\n",
       "      <td>ATA</td>\n",
       "      <td>TU</td>\n",
       "      <td>0.0</td>\n",
       "      <td>...</td>\n",
       "      <td>1</td>\n",
       "      <td>1</td>\n",
       "      <td>17</td>\n",
       "      <td>17</td>\n",
       "      <td>14</td>\n",
       "      <td>17</td>\n",
       "      <td>240</td>\n",
       "      <td>3</td>\n",
       "      <td>1805.107067</td>\n",
       "      <td>2</td>\n",
       "    </tr>\n",
       "    <tr>\n",
       "      <th>4</th>\n",
       "      <td>train_id_4</td>\n",
       "      <td>2016-01-17</td>\n",
       "      <td>TU 0338</td>\n",
       "      <td>TUN</td>\n",
       "      <td>ALG</td>\n",
       "      <td>2016-01-17 14:30:00</td>\n",
       "      <td>2016-01-17 15:50:00</td>\n",
       "      <td>ATA</td>\n",
       "      <td>TU</td>\n",
       "      <td>22.0</td>\n",
       "      <td>...</td>\n",
       "      <td>1</td>\n",
       "      <td>1</td>\n",
       "      <td>17</td>\n",
       "      <td>17</td>\n",
       "      <td>14</td>\n",
       "      <td>15</td>\n",
       "      <td>120</td>\n",
       "      <td>4</td>\n",
       "      <td>626.108971</td>\n",
       "      <td>2</td>\n",
       "    </tr>\n",
       "  </tbody>\n",
       "</table>\n",
       "<p>5 rows × 48 columns</p>\n",
       "</div>"
      ],
      "text/plain": [
       "           ID       DATOP     FLTID DEPSTN ARRSTN                 STD  \\\n",
       "0  train_id_0  2016-01-03  TU 0712     CMN    TUN 2016-01-03 10:30:00   \n",
       "1  train_id_1  2016-01-13  TU 0757     MXP    TUN 2016-01-13 15:05:00   \n",
       "2  train_id_2  2016-01-16  TU 0214     TUN    IST 2016-01-16 04:10:00   \n",
       "3  train_id_3  2016-01-17  TU 0480     DJE    NTE 2016-01-17 14:10:00   \n",
       "4  train_id_4  2016-01-17  TU 0338     TUN    ALG 2016-01-17 14:30:00   \n",
       "\n",
       "                  STA STATUS  AC  target  ... dep_month arr_month dep_day  \\\n",
       "0 2016-01-03 12:55:00    ATA  TU   260.0  ...         1         1       3   \n",
       "1 2016-01-13 16:55:00    ATA  TU    20.0  ...         1         1      13   \n",
       "2 2016-01-16 06:45:00    ATA  TU     0.0  ...         1         1      16   \n",
       "3 2016-01-17 17:00:00    ATA  TU     0.0  ...         1         1      17   \n",
       "4 2016-01-17 15:50:00    ATA  TU    22.0  ...         1         1      17   \n",
       "\n",
       "  arr_day dep_hour arr_hour dur_cat Unnamed: 0    trav_dist c_week  \n",
       "0       3       10       12     240          0  1666.949101     53  \n",
       "1      13       15       16     120          1   983.064595      2  \n",
       "2      16        4        6     240          2  1673.053088      2  \n",
       "3      17       14       17     240          3  1805.107067      2  \n",
       "4      17       14       15     120          4   626.108971      2  \n",
       "\n",
       "[5 rows x 48 columns]"
      ]
     },
     "execution_count": 381,
     "metadata": {},
     "output_type": "execute_result"
    }
   ],
   "source": [
    "df_new.head()"
   ]
  },
  {
   "cell_type": "code",
   "execution_count": 382,
   "metadata": {},
   "outputs": [
    {
     "data": {
      "text/html": [
       "<div>\n",
       "<style scoped>\n",
       "    .dataframe tbody tr th:only-of-type {\n",
       "        vertical-align: middle;\n",
       "    }\n",
       "\n",
       "    .dataframe tbody tr th {\n",
       "        vertical-align: top;\n",
       "    }\n",
       "\n",
       "    .dataframe thead th {\n",
       "        text-align: right;\n",
       "    }\n",
       "</style>\n",
       "<table border=\"1\" class=\"dataframe\">\n",
       "  <thead>\n",
       "    <tr style=\"text-align: right;\">\n",
       "      <th></th>\n",
       "      <th>sch_duration</th>\n",
       "      <th>dur_cat</th>\n",
       "    </tr>\n",
       "  </thead>\n",
       "  <tbody>\n",
       "    <tr>\n",
       "      <th>count</th>\n",
       "      <td>107161.000000</td>\n",
       "      <td>107161.000000</td>\n",
       "    </tr>\n",
       "    <tr>\n",
       "      <th>mean</th>\n",
       "      <td>198.316057</td>\n",
       "      <td>3680.668154</td>\n",
       "    </tr>\n",
       "    <tr>\n",
       "      <th>std</th>\n",
       "      <td>4301.201501</td>\n",
       "      <td>58883.591780</td>\n",
       "    </tr>\n",
       "    <tr>\n",
       "      <th>min</th>\n",
       "      <td>10.000000</td>\n",
       "      <td>120.000000</td>\n",
       "    </tr>\n",
       "    <tr>\n",
       "      <th>25%</th>\n",
       "      <td>95.000000</td>\n",
       "      <td>120.000000</td>\n",
       "    </tr>\n",
       "    <tr>\n",
       "      <th>50%</th>\n",
       "      <td>140.000000</td>\n",
       "      <td>240.000000</td>\n",
       "    </tr>\n",
       "    <tr>\n",
       "      <th>75%</th>\n",
       "      <td>165.000000</td>\n",
       "      <td>240.000000</td>\n",
       "    </tr>\n",
       "    <tr>\n",
       "      <th>max</th>\n",
       "      <td>719520.000000</td>\n",
       "      <td>1000000.000000</td>\n",
       "    </tr>\n",
       "  </tbody>\n",
       "</table>\n",
       "</div>"
      ],
      "text/plain": [
       "        sch_duration         dur_cat\n",
       "count  107161.000000   107161.000000\n",
       "mean      198.316057     3680.668154\n",
       "std      4301.201501    58883.591780\n",
       "min        10.000000      120.000000\n",
       "25%        95.000000      120.000000\n",
       "50%       140.000000      240.000000\n",
       "75%       165.000000      240.000000\n",
       "max    719520.000000  1000000.000000"
      ]
     },
     "execution_count": 382,
     "metadata": {},
     "output_type": "execute_result"
    }
   ],
   "source": [
    "df_new[['sch_duration', 'dur_cat']].describe()"
   ]
  },
  {
   "cell_type": "code",
   "execution_count": 383,
   "metadata": {},
   "outputs": [
    {
     "data": {
      "text/plain": [
       "0         240\n",
       "1         120\n",
       "2         240\n",
       "3         240\n",
       "4         120\n",
       "         ... \n",
       "107156    240\n",
       "107157    120\n",
       "107158    480\n",
       "107159    120\n",
       "107160    120\n",
       "Name: dur_cat, Length: 107161, dtype: int64"
      ]
     },
     "execution_count": 383,
     "metadata": {},
     "output_type": "execute_result"
    }
   ],
   "source": [
    "df_new.dur_cat"
   ]
  },
  {
   "cell_type": "code",
   "execution_count": 384,
   "metadata": {},
   "outputs": [],
   "source": [
    "list1=[]\n",
    "bestscore=130"
   ]
  },
  {
   "cell_type": "code",
   "execution_count": 385,
   "metadata": {},
   "outputs": [],
   "source": [
    "new_cols = ['STATUS', 'AC', 'target', 'country_dep', 'country_arr', 'trav_dist', 'year', 'dep_month',  'dep_day' , 'dep_hour', 'arr_month', 'arr_day',  'arr_hour', 'dur_cat', 'c_week']\n",
    "#new_cols = ['STATUS', 'AC', 'target', 'trav_dist', 'year', 'dep_month',  'dep_day' , 'dep_hour', 'arr_month', 'arr_day',  'arr_hour', 'dur_cat']"
   ]
  },
  {
   "cell_type": "code",
   "execution_count": 386,
   "metadata": {},
   "outputs": [],
   "source": [
    "df_new = pd.get_dummies(data=df_new[new_cols], prefix='con', prefix_sep='_', drop_first=True)"
   ]
  },
  {
   "cell_type": "code",
   "execution_count": 387,
   "metadata": {},
   "outputs": [],
   "source": [
    "rel_params = ['arr_month', 'year', 'con_SCH', 'dep_hour', 'arr_hour', 'dep_month', 'dep_day', 'arr_day', 'trav_dist', 'con_AT', 'con_TN', 'c_week', 'target']\n",
    "df_new = df_new[rel_params]"
   ]
  },
  {
   "cell_type": "code",
   "execution_count": 388,
   "metadata": {},
   "outputs": [],
   "source": [
    "scaler = StandardScaler()"
   ]
  },
  {
   "cell_type": "code",
   "execution_count": 389,
   "metadata": {},
   "outputs": [
    {
     "data": {
      "text/plain": [
       "array([[-1.72435204, -1.26225482, -0.37528113, ..., -1.15274783,\n",
       "         0.86802117,  1.79015541],\n",
       "       [-1.72435204, -1.26225482, -0.37528113, ..., -1.15274783,\n",
       "         0.86802117, -1.75474603],\n",
       "       [-1.72435204, -1.26225482, -0.37528113, ...,  0.86749242,\n",
       "        -1.15204564, -1.75474603],\n",
       "       ...,\n",
       "       [ 1.31112234,  1.19689831,  2.66466904, ...,  0.86749242,\n",
       "         0.86802117,  1.23409244],\n",
       "       [-1.72435204,  1.19689831, -0.37528113, ...,  0.86749242,\n",
       "         0.86802117, -1.61573029],\n",
       "       [ 1.31112234,  1.19689831,  2.66466904, ...,  0.86749242,\n",
       "         0.86802117,  1.30360031]])"
      ]
     },
     "execution_count": 389,
     "metadata": {},
     "output_type": "execute_result"
    }
   ],
   "source": [
    "scaler.fit_transform(df_new.loc[:, df_new.columns != 'target'])"
   ]
  },
  {
   "cell_type": "code",
   "execution_count": 390,
   "metadata": {},
   "outputs": [],
   "source": [
    "low_range=df_new.query('trav_dist < 1500')\n",
    "middle_range=df_new.query('trav_dist > 1500 & trav_dist<3500')\n",
    "long_range=df_new.query('trav_dist > 3500')"
   ]
  },
  {
   "cell_type": "code",
   "execution_count": 391,
   "metadata": {},
   "outputs": [],
   "source": [
    "X_train_low, X_test_low, y_train_low, y_test_low = train_test_split(low_range.drop(['target'], axis=1), low_range.target, random_state=RSEED)\n",
    "X_train_middle, X_test_middle, y_train_middle, y_test_middle = train_test_split(middle_range.drop(['target'], axis=1), middle_range.target, random_state=RSEED)\n",
    "X_train_long, X_test_long, y_train_long, y_test_long = train_test_split(long_range.drop(['target'], axis=1), long_range.target, random_state=RSEED)"
   ]
  },
  {
   "cell_type": "code",
   "execution_count": 392,
   "metadata": {},
   "outputs": [
    {
     "data": {
      "text/plain": [
       "LinearRegression()"
      ]
     },
     "execution_count": 392,
     "metadata": {},
     "output_type": "execute_result"
    }
   ],
   "source": [
    "lin_reg_low = LinearRegression()\n",
    "lin_reg_middle = LinearRegression()\n",
    "lin_reg_long = LinearRegression()\n",
    "\n",
    "lin_reg_low.fit(X_train_low, y_train_low)\n",
    "lin_reg_middle.fit(X_train_middle, y_train_middle)\n",
    "lin_reg_long.fit(X_train_long, y_train_long)"
   ]
  },
  {
   "cell_type": "code",
   "execution_count": 393,
   "metadata": {},
   "outputs": [],
   "source": [
    "y_train_low_pred = lin_reg_low.predict(X_train_low)\n",
    "y_test_low_pred = lin_reg_low.predict(X_test_low)\n",
    "y_train_middle_pred = lin_reg_middle.predict(X_train_middle)\n",
    "y_test_middle_pred = lin_reg_middle.predict(X_test_middle)\n",
    "y_train_long_pred = lin_reg_long.predict(X_train_long)\n",
    "y_test_long_pred = lin_reg_long.predict(X_test_long)"
   ]
  },
  {
   "cell_type": "code",
   "execution_count": 394,
   "metadata": {},
   "outputs": [
    {
     "name": "stdout",
     "output_type": "stream",
     "text": [
      "low range flights:  99.81158262756671 112.21057896468118\n",
      "middle range flights:  129.43325800665838 138.58324360951266\n",
      "long range flights:  151.29270701762957 146.18105349529333\n"
     ]
    }
   ],
   "source": [
    "print('low range flights: ', rmse(y_train_low_pred, y_train_low.to_numpy()), rmse(y_test_low_pred, y_test_low.to_numpy()))\n",
    "print('middle range flights: ', rmse(y_train_middle_pred, y_train_middle.to_numpy()), rmse(y_test_middle_pred, y_test_middle.to_numpy()))\n",
    "print('long range flights: ', rmse(y_train_long_pred, y_train_long.to_numpy()), rmse(y_test_long_pred, y_test_long.to_numpy()))"
   ]
  },
  {
   "cell_type": "code",
   "execution_count": 395,
   "metadata": {},
   "outputs": [
    {
     "data": {
      "text/plain": [
       "Index(['arr_month', 'year', 'con_SCH', 'dep_hour', 'arr_hour', 'dep_month',\n",
       "       'dep_day', 'arr_day', 'trav_dist', 'con_AT', 'con_AT', 'con_TN',\n",
       "       'con_TN', 'c_week'],\n",
       "      dtype='object')"
      ]
     },
     "execution_count": 395,
     "metadata": {},
     "output_type": "execute_result"
    }
   ],
   "source": [
    "X_train_low.columns"
   ]
  },
  {
   "cell_type": "markdown",
   "metadata": {},
   "source": [
    "## principal feasability"
   ]
  },
  {
   "cell_type": "code",
   "execution_count": 396,
   "metadata": {},
   "outputs": [
    {
     "data": {
      "text/plain": [
       "LinearRegression()"
      ]
     },
     "execution_count": 396,
     "metadata": {},
     "output_type": "execute_result"
    }
   ],
   "source": [
    "lin_reg_lowpr = LinearRegression()\n",
    "lin_reg_middlepr = LinearRegression()\n",
    "lin_reg_longpr = LinearRegression()\n",
    "\n",
    "lin_reg_lowpr.fit(low_range.loc[:, low_range.columns != 'target'], low_range.target)\n",
    "lin_reg_middlepr.fit(middle_range.loc[:, middle_range.columns != 'target'], middle_range.target)\n",
    "lin_reg_longpr.fit(long_range.loc[:, long_range.columns != 'target'], long_range.target)"
   ]
  },
  {
   "cell_type": "code",
   "execution_count": 397,
   "metadata": {},
   "outputs": [],
   "source": [
    "low_pred = lin_reg_lowpr.predict(low_range.loc[:, low_range.columns != 'target'])\n",
    "middle_pred = lin_reg_middlepr.predict(middle_range.loc[:, middle_range.columns != 'target'])\n",
    "long_pred = lin_reg_longpr.predict(long_range.loc[:, long_range.columns != 'target'])"
   ]
  },
  {
   "cell_type": "code",
   "execution_count": 398,
   "metadata": {},
   "outputs": [
    {
     "name": "stdout",
     "output_type": "stream",
     "text": [
      "103.0463957898299 131.7729141951683 149.96880163140312\n"
     ]
    }
   ],
   "source": [
    "print(rmse(low_pred, low_range.target.to_numpy()), rmse(middle_pred, middle_range.target.to_numpy()), rmse(long_pred, long_range.target.to_numpy()))"
   ]
  },
  {
   "cell_type": "code",
   "execution_count": 399,
   "metadata": {},
   "outputs": [],
   "source": [
    "pred = []\n",
    "lowc=0\n",
    "middlec=0\n",
    "longc=0\n",
    "for i in range(df_new.shape[0]):\n",
    "    rangei = df_new.iloc[i].trav_dist\n",
    "    if rangei < 1500:\n",
    "        pred.append(low_pred[lowc])\n",
    "        lowc+=1\n",
    "    if rangei <= 3500 and rangei>=1500:\n",
    "        pred.append(middle_pred[middlec])\n",
    "        middlec+=1\n",
    "    if rangei > 3500:\n",
    "        pred.append(low_pred[longc])\n",
    "        longc+=1"
   ]
  },
  {
   "cell_type": "code",
   "execution_count": 400,
   "metadata": {},
   "outputs": [
    {
     "data": {
      "text/plain": [
       "113.93900274680499"
      ]
     },
     "execution_count": 400,
     "metadata": {},
     "output_type": "execute_result"
    }
   ],
   "source": [
    "rmse(pred, df_new.target)"
   ]
  },
  {
   "cell_type": "code",
   "execution_count": 401,
   "metadata": {},
   "outputs": [
    {
     "data": {
      "text/plain": [
       "114.06848387817769"
      ]
     },
     "execution_count": 401,
     "metadata": {},
     "output_type": "execute_result"
    }
   ],
   "source": [
    "lrwhole = LinearRegression()\n",
    "lrwhole.fit(df_new.loc[:, df_new.columns != 'target'], df_new.target)\n",
    "wholepred = lrwhole.predict(df_new.loc[:, df_new.columns != 'target'])\n",
    "rmse(wholepred, df_new.target.to_numpy())"
   ]
  },
  {
   "cell_type": "markdown",
   "metadata": {},
   "source": [
    "## generalization to other columns"
   ]
  },
  {
   "cell_type": "code",
   "execution_count": 402,
   "metadata": {},
   "outputs": [],
   "source": [
    "def recover_pred(elements, el_preds, dframe, fname):\n",
    "    pred = []\n",
    "    n = len(el_preds)\n",
    "    counter_mat = np.zeros((n), dtype=int)\n",
    "\n",
    "    for i in range(dframe.shape[0]):\n",
    "\n",
    "        cat = dframe[fname].iloc[i]\n",
    "\n",
    "        el_ind = list(elements).index(cat)\n",
    "        pred.append(el_preds[el_ind][counter_mat[el_ind]])\n",
    "        counter_mat[el_ind]+=1\n",
    "\n",
    "    return pred"
   ]
  },
  {
   "cell_type": "code",
   "execution_count": 403,
   "metadata": {},
   "outputs": [],
   "source": [
    "dataframe = df_new"
   ]
  },
  {
   "cell_type": "code",
   "execution_count": 404,
   "metadata": {},
   "outputs": [],
   "source": [
    "def critmask(x):\n",
    "    if x > 3.*60:\n",
    "        return 1\n",
    "    else:\n",
    "        return 0\n",
    "dataframe['critical'] = dataframe.target.apply(lambda x: critmask(x))"
   ]
  },
  {
   "cell_type": "code",
   "execution_count": 405,
   "metadata": {},
   "outputs": [],
   "source": [
    "rel_params = ['arr_month', 'year', 'con_SCH', 'dep_hour', 'arr_hour', 'dep_month', 'dep_day', 'dur_cat', 'arr_day', 'trav_dist', 'con_AT', 'con_TN', 'target', 'c_week']"
   ]
  },
  {
   "cell_type": "code",
   "execution_count": 406,
   "metadata": {},
   "outputs": [
    {
     "data": {
      "text/html": [
       "<div>\n",
       "<style scoped>\n",
       "    .dataframe tbody tr th:only-of-type {\n",
       "        vertical-align: middle;\n",
       "    }\n",
       "\n",
       "    .dataframe tbody tr th {\n",
       "        vertical-align: top;\n",
       "    }\n",
       "\n",
       "    .dataframe thead th {\n",
       "        text-align: right;\n",
       "    }\n",
       "</style>\n",
       "<table border=\"1\" class=\"dataframe\">\n",
       "  <thead>\n",
       "    <tr style=\"text-align: right;\">\n",
       "      <th></th>\n",
       "      <th>arr_month</th>\n",
       "      <th>year</th>\n",
       "      <th>con_SCH</th>\n",
       "      <th>dep_hour</th>\n",
       "      <th>arr_hour</th>\n",
       "      <th>dep_month</th>\n",
       "      <th>dep_day</th>\n",
       "      <th>arr_day</th>\n",
       "      <th>trav_dist</th>\n",
       "      <th>con_AT</th>\n",
       "      <th>con_AT</th>\n",
       "      <th>con_TN</th>\n",
       "      <th>con_TN</th>\n",
       "      <th>c_week</th>\n",
       "      <th>target</th>\n",
       "      <th>critical</th>\n",
       "    </tr>\n",
       "  </thead>\n",
       "  <tbody>\n",
       "    <tr>\n",
       "      <th>0</th>\n",
       "      <td>1</td>\n",
       "      <td>2016</td>\n",
       "      <td>0</td>\n",
       "      <td>10</td>\n",
       "      <td>12</td>\n",
       "      <td>1</td>\n",
       "      <td>3</td>\n",
       "      <td>3</td>\n",
       "      <td>1666.949101</td>\n",
       "      <td>0</td>\n",
       "      <td>0</td>\n",
       "      <td>0</td>\n",
       "      <td>1</td>\n",
       "      <td>53</td>\n",
       "      <td>260.0</td>\n",
       "      <td>1</td>\n",
       "    </tr>\n",
       "    <tr>\n",
       "      <th>1</th>\n",
       "      <td>1</td>\n",
       "      <td>2016</td>\n",
       "      <td>0</td>\n",
       "      <td>15</td>\n",
       "      <td>16</td>\n",
       "      <td>1</td>\n",
       "      <td>13</td>\n",
       "      <td>13</td>\n",
       "      <td>983.064595</td>\n",
       "      <td>0</td>\n",
       "      <td>0</td>\n",
       "      <td>0</td>\n",
       "      <td>1</td>\n",
       "      <td>2</td>\n",
       "      <td>20.0</td>\n",
       "      <td>0</td>\n",
       "    </tr>\n",
       "    <tr>\n",
       "      <th>2</th>\n",
       "      <td>1</td>\n",
       "      <td>2016</td>\n",
       "      <td>0</td>\n",
       "      <td>4</td>\n",
       "      <td>6</td>\n",
       "      <td>1</td>\n",
       "      <td>16</td>\n",
       "      <td>16</td>\n",
       "      <td>1673.053088</td>\n",
       "      <td>0</td>\n",
       "      <td>0</td>\n",
       "      <td>1</td>\n",
       "      <td>0</td>\n",
       "      <td>2</td>\n",
       "      <td>0.0</td>\n",
       "      <td>0</td>\n",
       "    </tr>\n",
       "    <tr>\n",
       "      <th>3</th>\n",
       "      <td>1</td>\n",
       "      <td>2016</td>\n",
       "      <td>0</td>\n",
       "      <td>14</td>\n",
       "      <td>17</td>\n",
       "      <td>1</td>\n",
       "      <td>17</td>\n",
       "      <td>17</td>\n",
       "      <td>1805.107067</td>\n",
       "      <td>0</td>\n",
       "      <td>0</td>\n",
       "      <td>1</td>\n",
       "      <td>0</td>\n",
       "      <td>2</td>\n",
       "      <td>0.0</td>\n",
       "      <td>0</td>\n",
       "    </tr>\n",
       "    <tr>\n",
       "      <th>4</th>\n",
       "      <td>1</td>\n",
       "      <td>2016</td>\n",
       "      <td>0</td>\n",
       "      <td>14</td>\n",
       "      <td>15</td>\n",
       "      <td>1</td>\n",
       "      <td>17</td>\n",
       "      <td>17</td>\n",
       "      <td>626.108971</td>\n",
       "      <td>0</td>\n",
       "      <td>0</td>\n",
       "      <td>1</td>\n",
       "      <td>0</td>\n",
       "      <td>2</td>\n",
       "      <td>22.0</td>\n",
       "      <td>0</td>\n",
       "    </tr>\n",
       "  </tbody>\n",
       "</table>\n",
       "</div>"
      ],
      "text/plain": [
       "   arr_month  year  con_SCH  dep_hour  arr_hour  dep_month  dep_day  arr_day  \\\n",
       "0          1  2016        0        10        12          1        3        3   \n",
       "1          1  2016        0        15        16          1       13       13   \n",
       "2          1  2016        0         4         6          1       16       16   \n",
       "3          1  2016        0        14        17          1       17       17   \n",
       "4          1  2016        0        14        15          1       17       17   \n",
       "\n",
       "     trav_dist  con_AT  con_AT  con_TN  con_TN  c_week  target  critical  \n",
       "0  1666.949101       0       0       0       1      53   260.0         1  \n",
       "1   983.064595       0       0       0       1       2    20.0         0  \n",
       "2  1673.053088       0       0       1       0       2     0.0         0  \n",
       "3  1805.107067       0       0       1       0       2     0.0         0  \n",
       "4   626.108971       0       0       1       0       2    22.0         0  "
      ]
     },
     "execution_count": 406,
     "metadata": {},
     "output_type": "execute_result"
    }
   ],
   "source": [
    "df_new.head()"
   ]
  },
  {
   "cell_type": "code",
   "execution_count": 412,
   "metadata": {},
   "outputs": [],
   "source": [
    "## first get the unique elements in the list\n",
    "fname = 'dep_month'\n",
    "\n",
    "elements = dataframe[fname].unique()\n",
    "n_uniq = len(elements)"
   ]
  },
  {
   "cell_type": "code",
   "execution_count": 413,
   "metadata": {},
   "outputs": [],
   "source": [
    "weights = []\n",
    "el_predictions = []\n",
    "\n",
    "for element in elements:\n",
    "\n",
    "    el_frame = dataframe[dataframe[fname]==element]\n",
    "    X = el_frame.drop('target', axis=1)\n",
    "    y = el_frame.target\n",
    "\n",
    "    linreg = LinearRegression()\n",
    "    linreg.fit(X, y)\n",
    "    el_predictions.append(linreg.predict(X))\n",
    "    weights.append(linreg.coef_)"
   ]
  },
  {
   "cell_type": "code",
   "execution_count": 414,
   "metadata": {},
   "outputs": [],
   "source": [
    "pred_new = recover_pred(elements, el_predictions, dataframe, fname)"
   ]
  },
  {
   "cell_type": "code",
   "execution_count": 415,
   "metadata": {},
   "outputs": [
    {
     "data": {
      "text/plain": [
       "-64.01998512202772"
      ]
     },
     "execution_count": 415,
     "metadata": {},
     "output_type": "execute_result"
    }
   ],
   "source": [
    "min(pred_new)"
   ]
  },
  {
   "cell_type": "code",
   "execution_count": 416,
   "metadata": {},
   "outputs": [
    {
     "name": "stdout",
     "output_type": "stream",
     "text": [
      "77.8607842394547 77.85913344626469\n"
     ]
    }
   ],
   "source": [
    "print(rmse(pred_new, dataframe.target.to_numpy()), rmse(np.abs(np.array(pred_new)/1.0), dataframe.target.to_numpy()))"
   ]
  },
  {
   "cell_type": "code",
   "execution_count": null,
   "metadata": {},
   "outputs": [],
   "source": []
  }
 ],
 "metadata": {
  "interpreter": {
   "hash": "91456eaba9c08fec0e607e270bc74b73742d946c5e093b39c4e5c4030cbed45a"
  },
  "kernelspec": {
   "display_name": "Python 3.9.4 ('.flight_venv': venv)",
   "language": "python",
   "name": "python3"
  },
  "language_info": {
   "codemirror_mode": {
    "name": "ipython",
    "version": 3
   },
   "file_extension": ".py",
   "mimetype": "text/x-python",
   "name": "python",
   "nbconvert_exporter": "python",
   "pygments_lexer": "ipython3",
   "version": "3.9.4"
  },
  "orig_nbformat": 4
 },
 "nbformat": 4,
 "nbformat_minor": 2
}
